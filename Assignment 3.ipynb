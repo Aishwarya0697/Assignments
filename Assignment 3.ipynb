{
 "cells": [
  {
   "cell_type": "code",
   "execution_count": 7,
   "metadata": {},
   "outputs": [
    {
     "name": "stdout",
     "output_type": "stream",
     "text": [
      "10\n"
     ]
    }
   ],
   "source": [
    "def do_sum(x1,x2):\n",
    "    return x1+x2\n",
    "\n",
    "def myreduce(fun , seq):\n",
    "    first = seq[0]\n",
    "    for i in seq[1:]:\n",
    "        first = fun(first , i)\n",
    "    return first\n",
    "print(myreduce(do_sum,[1,2,3,4]))"
   ]
  },
  {
   "cell_type": "code",
   "execution_count": 10,
   "metadata": {},
   "outputs": [
    {
     "name": "stdout",
     "output_type": "stream",
     "text": [
      "[False, True, False, True]\n"
     ]
    }
   ],
   "source": [
    "def even(a):\n",
    "    return a%2 == 0\n",
    "def myfilter(fun , seq):\n",
    "    even = []\n",
    "    for i in seq:\n",
    "        even.append(fun(i))    \n",
    "    return even\n",
    "print(myfilter(even , [1,2,3,4]))"
   ]
  },
  {
   "cell_type": "code",
   "execution_count": 3,
   "metadata": {},
   "outputs": [
    {
     "name": "stdout",
     "output_type": "stream",
     "text": [
      "['x', 'xx', 'xxx', 'xxxx', 'y', 'yy', 'yyy', 'yyyy', 'z', 'zz', 'zzz', 'zzzz']\n",
      "['x', 'y', 'z', 'xx', 'yy', 'zz', 'xxx', 'yyy', 'zzz', 'xxxx', 'yyyy', 'zzzz']\n",
      "[[2], [3], [4], [3], [4], [5], [4], [5], [6]]\n",
      "[[2, 3, 4, 5], [3, 4, 5, 6], [4, 5, 6, 7], [5, 6, 7, 8]]\n",
      "[(1, 1), (2, 1), (3, 1), (1, 2), (2, 2), (3, 2), (1, 3), (2, 3), (3, 3)]\n"
     ]
    }
   ],
   "source": [
    "\n",
    "list1 = [\"x\" , \"y\" ,\"z\"]\n",
    "l = [i*n for i in list1 for n in range(1,5)]\n",
    "print(l)\n",
    "\n",
    "list1 = [\"x\",\"y\",\"z\"]\n",
    "l = [i*n for n in range(1,5) for i in list1]\n",
    "print(l)\n",
    "\n",
    "\n",
    "list1 = [2,3,4]\n",
    "l= [[i+n] for i in list1 for n in range(0,3)]\n",
    "print(l)\n",
    "\n",
    "list1 = [2,3,4,5]\n",
    "l = [[(i+n) for i in list1] for n in range(0,4)]\n",
    "print(l)\n",
    "\n",
    "list1 =[1,2,3]\n",
    "l=[(y,x) for x in list1 for y in list1]\n",
    "print(l)"
   ]
  },
  {
   "cell_type": "code",
   "execution_count": null,
   "metadata": {},
   "outputs": [],
   "source": []
  }
 ],
 "metadata": {
  "kernelspec": {
   "display_name": "Python 3",
   "language": "python",
   "name": "python3"
  },
  "language_info": {
   "codemirror_mode": {
    "name": "ipython",
    "version": 3
   },
   "file_extension": ".py",
   "mimetype": "text/x-python",
   "name": "python",
   "nbconvert_exporter": "python",
   "pygments_lexer": "ipython3",
   "version": "3.7.4"
  }
 },
 "nbformat": 4,
 "nbformat_minor": 2
}
