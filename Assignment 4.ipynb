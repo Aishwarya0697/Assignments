{
 "cells": [
  {
   "cell_type": "code",
   "execution_count": 50,
   "metadata": {},
   "outputs": [
    {
     "name": "stdout",
     "output_type": "stream",
     "text": [
      " Enter lenth of side a 4.5\n",
      " Enter length of side b 6\n",
      " Enter length of side c 7\n",
      "13.377774244993073\n"
     ]
    }
   ],
   "source": [
    "class Triangle:\n",
    "    def __init__(self):\n",
    "        self.a = float(input(\" Enter lenth of side a \"))\n",
    "        self.b = float(input(\" Enter length of side b \"))\n",
    "        self.c = float(input(\" Enter length of side c \"))\n",
    "\n",
    "        \n",
    "class area(Triangle):\n",
    "    def __init__(self):\n",
    "        super().__init__()\n",
    "    def area(self):\n",
    "        s = (self.a + self.b +self.c)/2\n",
    "        return(s*((s-self.a)*(s-self.b)*(s-self.c)))** 0.5\n",
    "p1 = area()    \n",
    "print(p1.area())"
   ]
  },
  {
   "cell_type": "code",
   "execution_count": 42,
   "metadata": {},
   "outputs": [
    {
     "data": {
      "text/plain": [
       "['pineapple', 'orange', 'stawbery']"
      ]
     },
     "execution_count": 42,
     "metadata": {},
     "output_type": "execute_result"
    }
   ],
   "source": [
    "def filter_long_words(list1,n):\n",
    "    l=[]\n",
    "    for i in list1:\n",
    "        if len(i) > n:\n",
    "            l.append(i)\n",
    "    return l\n",
    "list1 = [\"apple\",\"mango\",\"pineapple\",\"orange\",\"stawbery\"]    \n",
    "filter_long_words(list1,5)"
   ]
  },
  {
   "cell_type": "code",
   "execution_count": 36,
   "metadata": {},
   "outputs": [
    {
     "data": {
      "text/plain": [
       "[5, 5, 9, 6, 8]"
      ]
     },
     "execution_count": 36,
     "metadata": {},
     "output_type": "execute_result"
    }
   ],
   "source": [
    "def lenth_of_words(list1):\n",
    "    l = []\n",
    "    for i in list1:\n",
    "        l.append(len(i))\n",
    "    return l\n",
    "list1 = [\"apple\",\"mango\",\"pineapple\",\"orange\",\"stawbery\"]\n",
    "lenth_of_words(list1)"
   ]
  },
  {
   "cell_type": "code",
   "execution_count": 41,
   "metadata": {},
   "outputs": [
    {
     "data": {
      "text/plain": [
       "True"
      ]
     },
     "execution_count": 41,
     "metadata": {},
     "output_type": "execute_result"
    }
   ],
   "source": [
    "def is_vowels(str):\n",
    "    vowels = [\"a\",\"e\",\"i\",\"o\",\"u\"]\n",
    "    str = str.lower()\n",
    "    for i in range(0,5):\n",
    "        if vowels[i] == str:\n",
    "            return True\n",
    "    return False\n",
    "is_vowels(\"u\")"
   ]
  },
  {
   "cell_type": "code",
   "execution_count": null,
   "metadata": {},
   "outputs": [],
   "source": []
  }
 ],
 "metadata": {
  "kernelspec": {
   "display_name": "Python 3",
   "language": "python",
   "name": "python3"
  },
  "language_info": {
   "codemirror_mode": {
    "name": "ipython",
    "version": 3
   },
   "file_extension": ".py",
   "mimetype": "text/x-python",
   "name": "python",
   "nbconvert_exporter": "python",
   "pygments_lexer": "ipython3",
   "version": "3.7.4"
  }
 },
 "nbformat": 4,
 "nbformat_minor": 2
}
